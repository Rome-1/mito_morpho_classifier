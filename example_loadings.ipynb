{
 "cells": [
  {
   "cell_type": "code",
   "execution_count": 16,
   "id": "cfe55fbe-e27f-41f5-af95-dbcd414ede70",
   "metadata": {},
   "outputs": [],
   "source": [
    "import numpy as np\n",
    "import matplotlib.pyplot as plt\n",
    "import pandas as pd\n",
    "import time\n",
    "import importlib\n",
    "from os.path import isfile\n",
    "\n",
    "# import utils file\n",
    "spec = importlib.util.spec_from_file_location('utils', 'utils.py')\n",
    "utils = importlib.util.module_from_spec(spec)\n",
    "spec.loader.exec_module(utils)"
   ]
  },
  {
   "cell_type": "markdown",
   "id": "5e48280d-aef1-441f-ad41-dbd6d1805eb5",
   "metadata": {},
   "source": [
    "Neuron_quality is a csv table of all the neurons we will analyze. \n",
    "It also includes some additional neuron types, but we will ignore them.\n",
    "\n",
    "bodyId is like the social security number of every individual neuron.\n",
    "neuron_type is the cell type, which is what will will try to predict later"
   ]
  },
  {
   "cell_type": "code",
   "execution_count": 11,
   "id": "791fda55-fb10-45b4-ab7e-db27d1db0454",
   "metadata": {},
   "outputs": [
    {
     "data": {
      "text/html": [
       "<div>\n",
       "<style scoped>\n",
       "    .dataframe tbody tr th:only-of-type {\n",
       "        vertical-align: middle;\n",
       "    }\n",
       "\n",
       "    .dataframe tbody tr th {\n",
       "        vertical-align: top;\n",
       "    }\n",
       "\n",
       "    .dataframe thead th {\n",
       "        text-align: right;\n",
       "    }\n",
       "</style>\n",
       "<table border=\"1\" class=\"dataframe\">\n",
       "  <thead>\n",
       "    <tr style=\"text-align: right;\">\n",
       "      <th></th>\n",
       "      <th>bodyId</th>\n",
       "      <th>neuron_type</th>\n",
       "      <th>has_soma</th>\n",
       "      <th>has_axon</th>\n",
       "      <th>has_dendrite</th>\n",
       "    </tr>\n",
       "  </thead>\n",
       "  <tbody>\n",
       "    <tr>\n",
       "      <th>0</th>\n",
       "      <td>1158187240</td>\n",
       "      <td>LC4</td>\n",
       "      <td>True</td>\n",
       "      <td>True</td>\n",
       "      <td>True</td>\n",
       "    </tr>\n",
       "    <tr>\n",
       "      <th>1</th>\n",
       "      <td>1158864995</td>\n",
       "      <td>LC4</td>\n",
       "      <td>True</td>\n",
       "      <td>True</td>\n",
       "      <td>True</td>\n",
       "    </tr>\n",
       "    <tr>\n",
       "      <th>2</th>\n",
       "      <td>1189559257</td>\n",
       "      <td>LC4</td>\n",
       "      <td>True</td>\n",
       "      <td>True</td>\n",
       "      <td>True</td>\n",
       "    </tr>\n",
       "    <tr>\n",
       "      <th>3</th>\n",
       "      <td>1218901359</td>\n",
       "      <td>LC4</td>\n",
       "      <td>True</td>\n",
       "      <td>True</td>\n",
       "      <td>True</td>\n",
       "    </tr>\n",
       "    <tr>\n",
       "      <th>4</th>\n",
       "      <td>1249932198</td>\n",
       "      <td>LC4</td>\n",
       "      <td>True</td>\n",
       "      <td>True</td>\n",
       "      <td>True</td>\n",
       "    </tr>\n",
       "  </tbody>\n",
       "</table>\n",
       "</div>"
      ],
      "text/plain": [
       "       bodyId neuron_type  has_soma  has_axon  has_dendrite\n",
       "0  1158187240         LC4      True      True          True\n",
       "1  1158864995         LC4      True      True          True\n",
       "2  1189559257         LC4      True      True          True\n",
       "3  1218901359         LC4      True      True          True\n",
       "4  1249932198         LC4      True      True          True"
      ]
     },
     "execution_count": 11,
     "metadata": {},
     "output_type": "execute_result"
    }
   ],
   "source": [
    "utils.neuron_quality.head()"
   ]
  },
  {
   "cell_type": "markdown",
   "id": "b1ee5f52-3c4f-4a36-8105-cf94867f978d",
   "metadata": {},
   "source": [
    "Here are the neuron types we will use"
   ]
  },
  {
   "cell_type": "code",
   "execution_count": 19,
   "id": "f67e0aeb-c261-4ea5-9b5a-e91ec660bebd",
   "metadata": {},
   "outputs": [
    {
     "data": {
      "text/plain": [
       "['LC4',\n",
       " 'LC6',\n",
       " 'LC9',\n",
       " 'LC11',\n",
       " 'LC12',\n",
       " 'LC13',\n",
       " 'LC15',\n",
       " 'LC16',\n",
       " 'LC17',\n",
       " 'LC18',\n",
       " 'LC20',\n",
       " 'LC21',\n",
       " 'LC22',\n",
       " 'LC24',\n",
       " 'LC25',\n",
       " 'LC26',\n",
       " 'LC27',\n",
       " 'LC29',\n",
       " 'LC31',\n",
       " 'LC36']"
      ]
     },
     "execution_count": 19,
     "metadata": {},
     "output_type": "execute_result"
    }
   ],
   "source": [
    "utils.analyze_neurons"
   ]
  },
  {
   "cell_type": "markdown",
   "id": "2d5e5131-5b33-4f95-a394-bd103845f186",
   "metadata": {},
   "source": [
    "Here's an example of loading the simple, seven dimensional mitochondria csv file for all the mitochondria in a given section of the neuron"
   ]
  },
  {
   "cell_type": "code",
   "execution_count": 20,
   "id": "b8ccce85-5012-4bb4-a230-786b96f96a16",
   "metadata": {},
   "outputs": [],
   "source": [
    "section = 'axon'\n",
    "all_section_mitos = []\n",
    "all_labels = []\n",
    "for i_type, neuron_type in enumerate(utils.analyze_neurons):\n",
    "    for bodyId in utils.neuron_quality_np[utils.neuron_quality_np[:,1] == neuron_type,0]:\n",
    "        mito_file = f'segmentations/mito_df/{neuron_type}_{bodyId}_mito_df.csv'\n",
    "        if isfile(mito_file):\n",
    "            # this neuron has a saved mitochondria csv file\n",
    "            mito_df = pd.read_csv(mito_file)\n",
    "            \n",
    "            # node_class_dict takes a section as input about outputs the class integer assigned to that section\n",
    "            is_in_section = mito_df['class'].to_numpy() == utils.node_class_dict[section]\n",
    "            \n",
    "            arbor_mito_df = mito_df.iloc[ np.where(is_in_section)[0] ]\n",
    "            \n",
    "            all_section_mitos.append(arbor_mito_df.to_numpy()[:,1:])\n",
    "            all_labels.append( np.ones(len(arbor_mito_df)) * i_type )\n",
    "all_section_mitos = np.concatenate(all_section_mitos,axis=0)\n",
    "all_labels = np.concatenate(all_labels,axis=0)"
   ]
  },
  {
   "cell_type": "markdown",
   "id": "206055ff-d698-4ddf-b39b-03532cf54ad3",
   "metadata": {},
   "source": [
    "The class represents which neuron section the mitochondrion is in, and the other featuers are the seven morphometrics"
   ]
  },
  {
   "cell_type": "code",
   "execution_count": 18,
   "id": "9875f307-ab60-452b-bfde-feada03308fe",
   "metadata": {},
   "outputs": [
    {
     "data": {
      "text/html": [
       "<div>\n",
       "<style scoped>\n",
       "    .dataframe tbody tr th:only-of-type {\n",
       "        vertical-align: middle;\n",
       "    }\n",
       "\n",
       "    .dataframe tbody tr th {\n",
       "        vertical-align: top;\n",
       "    }\n",
       "\n",
       "    .dataframe thead th {\n",
       "        text-align: right;\n",
       "    }\n",
       "</style>\n",
       "<table border=\"1\" class=\"dataframe\">\n",
       "  <thead>\n",
       "    <tr style=\"text-align: right;\">\n",
       "      <th></th>\n",
       "      <th>class</th>\n",
       "      <th>size</th>\n",
       "      <th>mito SA</th>\n",
       "      <th>mito CA</th>\n",
       "      <th>PC1 Length</th>\n",
       "      <th>PC2 Length</th>\n",
       "      <th>PC3 Length</th>\n",
       "      <th>SBI</th>\n",
       "    </tr>\n",
       "  </thead>\n",
       "  <tbody>\n",
       "    <tr>\n",
       "      <th>0</th>\n",
       "      <td>3.0</td>\n",
       "      <td>1015592.0</td>\n",
       "      <td>139160.328731</td>\n",
       "      <td>2627.0</td>\n",
       "      <td>714.136725</td>\n",
       "      <td>185.850222</td>\n",
       "      <td>89.938141</td>\n",
       "      <td>-0.421732</td>\n",
       "    </tr>\n",
       "    <tr>\n",
       "      <th>1</th>\n",
       "      <td>3.0</td>\n",
       "      <td>1017568.0</td>\n",
       "      <td>139610.611478</td>\n",
       "      <td>4434.0</td>\n",
       "      <td>772.371336</td>\n",
       "      <td>114.691397</td>\n",
       "      <td>79.824717</td>\n",
       "      <td>-0.435033</td>\n",
       "    </tr>\n",
       "    <tr>\n",
       "      <th>2</th>\n",
       "      <td>3.0</td>\n",
       "      <td>767440.0</td>\n",
       "      <td>71281.069309</td>\n",
       "      <td>17769.0</td>\n",
       "      <td>258.284940</td>\n",
       "      <td>121.094694</td>\n",
       "      <td>83.534749</td>\n",
       "      <td>-0.227823</td>\n",
       "    </tr>\n",
       "    <tr>\n",
       "      <th>3</th>\n",
       "      <td>3.0</td>\n",
       "      <td>988160.0</td>\n",
       "      <td>107590.624427</td>\n",
       "      <td>14523.0</td>\n",
       "      <td>270.416084</td>\n",
       "      <td>147.290031</td>\n",
       "      <td>99.819203</td>\n",
       "      <td>-0.371873</td>\n",
       "    </tr>\n",
       "    <tr>\n",
       "      <th>4</th>\n",
       "      <td>3.0</td>\n",
       "      <td>615584.0</td>\n",
       "      <td>85222.833207</td>\n",
       "      <td>2117.0</td>\n",
       "      <td>565.358374</td>\n",
       "      <td>89.929948</td>\n",
       "      <td>80.278404</td>\n",
       "      <td>-0.370921</td>\n",
       "    </tr>\n",
       "  </tbody>\n",
       "</table>\n",
       "</div>"
      ],
      "text/plain": [
       "   class       size        mito SA  mito CA  PC1 Length  PC2 Length  \\\n",
       "0    3.0  1015592.0  139160.328731   2627.0  714.136725  185.850222   \n",
       "1    3.0  1017568.0  139610.611478   4434.0  772.371336  114.691397   \n",
       "2    3.0   767440.0   71281.069309  17769.0  258.284940  121.094694   \n",
       "3    3.0   988160.0  107590.624427  14523.0  270.416084  147.290031   \n",
       "4    3.0   615584.0   85222.833207   2117.0  565.358374   89.929948   \n",
       "\n",
       "   PC3 Length       SBI  \n",
       "0   89.938141 -0.421732  \n",
       "1   79.824717 -0.435033  \n",
       "2   83.534749 -0.227823  \n",
       "3   99.819203 -0.371873  \n",
       "4   80.278404 -0.370921  "
      ]
     },
     "execution_count": 18,
     "metadata": {},
     "output_type": "execute_result"
    }
   ],
   "source": [
    "mito_df.head()"
   ]
  },
  {
   "cell_type": "markdown",
   "id": "8d9baaa5-1049-4130-8a79-01cc30f3e69c",
   "metadata": {},
   "source": [
    "Here's an example loading in the boolean segmented mitochondria for a given section"
   ]
  },
  {
   "cell_type": "code",
   "execution_count": 26,
   "id": "4cb00587-6d2c-464d-96d2-fbfde2340fd4",
   "metadata": {},
   "outputs": [
    {
     "ename": "AssertionError",
     "evalue": "",
     "output_type": "error",
     "traceback": [
      "\u001b[0;31m---------------------------------------------------------------------------\u001b[0m",
      "\u001b[0;31mAssertionError\u001b[0m                            Traceback (most recent call last)",
      "\u001b[0;32m/tmp/ipykernel_469/3389149291.py\u001b[0m in \u001b[0;36m<module>\u001b[0;34m\u001b[0m\n\u001b[1;32m     18\u001b[0m                         \u001b[0;31m# load this mitochondrion\u001b[0m\u001b[0;34m\u001b[0m\u001b[0;34m\u001b[0m\u001b[0;34m\u001b[0m\u001b[0m\n\u001b[1;32m     19\u001b[0m                         \u001b[0mmito_subvol\u001b[0m \u001b[0;34m=\u001b[0m \u001b[0mutils\u001b[0m\u001b[0;34m.\u001b[0m\u001b[0mdecompress_pickle\u001b[0m\u001b[0;34m(\u001b[0m\u001b[0mfile\u001b[0m\u001b[0;34m)\u001b[0m\u001b[0;34m\u001b[0m\u001b[0;34m\u001b[0m\u001b[0m\n\u001b[0;32m---> 20\u001b[0;31m                         \u001b[0;32massert\u001b[0m \u001b[0;32mFalse\u001b[0m\u001b[0;34m\u001b[0m\u001b[0;34m\u001b[0m\u001b[0m\n\u001b[0m",
      "\u001b[0;31mAssertionError\u001b[0m: "
     ]
    }
   ],
   "source": [
    "section = 'axon'\n",
    "all_section_mitos = []\n",
    "all_labels = []\n",
    "for i_type, neuron_type in enumerate(utils.analyze_neurons):\n",
    "    for bodyId in utils.neuron_quality_np[utils.neuron_quality_np[:,1] == neuron_type,0]:\n",
    "        mito_file = f'segmentations/mito_df/{neuron_type}_{bodyId}_mito_df.csv'\n",
    "        if isfile(mito_file):\n",
    "            # this neuron has a saved mitochondria csv file\n",
    "            mito_df = pd.read_csv(mito_file)\n",
    "            \n",
    "            # node_class_dict takes a section as input about outputs the class integer assigned to that section\n",
    "            is_in_section = mito_df['class'].to_numpy() == utils.node_class_dict[section]\n",
    "            if np.any(is_in_section):\n",
    "                for i_mito in np.where(is_in_section)[0]:\n",
    "                    file = f'segmentations/mitochondria/{section}/{neuron_type}_{bodyId}_IMito_{i_mito}.pbz2'\n",
    "                    \n",
    "                    if isfile(file):\n",
    "                        # load this mitochondrion\n",
    "                        mito_subvol = utils.decompress_pickle(file)\n",
    "                        assert False"
   ]
  },
  {
   "cell_type": "code",
   "execution_count": 58,
   "id": "ec586f0d-d551-48a1-b1f1-eb214b99beca",
   "metadata": {},
   "outputs": [
    {
     "data": {
      "text/plain": [
       "(91, 121, 91)"
      ]
     },
     "execution_count": 58,
     "metadata": {},
     "output_type": "execute_result"
    }
   ],
   "source": [
    "mito_subvol.shape"
   ]
  },
  {
   "cell_type": "code",
   "execution_count": 36,
   "id": "f05a594f-d3a8-419f-a22b-97d1bfde8c7c",
   "metadata": {},
   "outputs": [
    {
     "data": {
      "text/plain": [
       "array([ 883,  537, 1117])"
      ]
     },
     "execution_count": 36,
     "metadata": {},
     "output_type": "execute_result"
    }
   ],
   "source": [
    "largest_size = utils.get_biggest_size(section)\n",
    "largest_size"
   ]
  },
  {
   "cell_type": "code",
   "execution_count": 52,
   "id": "58065c28-0512-4f1b-94bd-9a6c235e1292",
   "metadata": {},
   "outputs": [],
   "source": [
    "padded_mito_subvol = utils.zero_pad_img(mito_subvol, largest_size)"
   ]
  },
  {
   "cell_type": "code",
   "execution_count": 56,
   "id": "f06df7a5-a842-4738-a6ae-45bb65ba4b16",
   "metadata": {},
   "outputs": [
    {
     "data": {
      "image/png": "[encoded data removed]",
      "text/plain": [
       "<Figure size 640x480 with 1 Axes>"
      ]
     },
     "metadata": {},
     "output_type": "display_data"
    },
    {
     "data": {
      "image/png": "[encoded data removed]",
      "text/plain": [
       "<Figure size 640x480 with 1 Axes>"
      ]
     },
     "metadata": {},
     "output_type": "display_data"
    }
   ],
   "source": [
    "plt.imshow(mito_subvol[int(mito_subvol.shape[0]/2)])\n",
    "plt.title('Original Image')\n",
    "plt.show()\n",
    "\n",
    "plt.imshow(padded_mito_subvol[int(padded_mito_subvol.shape[0]/2)])\n",
    "plt.title('Padded Image')\n",
    "plt.show()"
   ]
  },
  {
   "cell_type": "code",
   "execution_count": null,
   "id": "d6a2a0b4-7e1c-4971-9964-bc16320d346e",
   "metadata": {},
   "outputs": [],
   "source": []
  }
 ],
 "metadata": {
  "kernelspec": {
   "display_name": "Python 3 (ipykernel)",
   "language": "python",
   "name": "python3"
  },
  "language_info": {
   "codemirror_mode": {
    "name": "ipython",
    "version": 3
   },
   "file_extension": ".py",
   "mimetype": "text/x-python",
   "name": "python",
   "nbconvert_exporter": "python",
   "pygments_lexer": "ipython3",
   "version": "3.12.2"
  }
 },
 "nbformat": 4,
 "nbformat_minor": 5
}
